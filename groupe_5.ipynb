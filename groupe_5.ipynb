{
  "nbformat": 4,
  "nbformat_minor": 0,
  "metadata": {
    "colab": {
      "provenance": [],
      "collapsed_sections": []
    },
    "kernelspec": {
      "name": "python3",
      "display_name": "Python 3"
    },
    "language_info": {
      "name": "python"
    }
  },
  "cells": [
    {
      "cell_type": "code",
      "execution_count": 27,
      "metadata": {
        "id": "cMf56Nok2hL4"
      },
      "outputs": [],
      "source": [
        "import requests\n",
        "from bs4 import BeautifulSoup\n",
        "import json\n",
        "import uuid"
      ]
    },
    {
      "cell_type": "code",
      "source": [
        "url ='https://www.backmarket.fr/fr-fr/l/iphone-reconditionne/aabc736a-cb66-4ac0-a3b7-0f449781ed39?page=1#serie=iPhone%2013&serie=iPhone%2012&serie=iPhone%2011&sort=prod_index_backbox_price_asc_fr-fr'\n",
        "response = requests.get(url)\n",
        "soup = BeautifulSoup(response.text)\n",
        "\n",
        "tests = soup.find_all(\"a\", class_=\"focus:outline-none group md:box-border relative\")[4:]\n",
        "tests"
      ],
      "metadata": {
        "id": "Sz--nu1sa_JB"
      },
      "execution_count": null,
      "outputs": []
    },
    {
      "cell_type": "code",
      "source": [
        "def get_all_iphone():\n",
        "    datas = {}\n",
        "    list_urls = [\n",
        "        f'https://www.backmarket.fr/fr-fr/l/iphone-reconditionne/aabc736a-cb66-4ac0-a3b7-0f449781ed39?page={n}#serie=iPhone%2013&serie=iPhone%2012&serie=iPhone%2011&sort=prod_index_backbox_price_asc_fr-fr' for n in range(1, 8)]\n",
        "    \n",
        "    for url in list_urls:\n",
        "        response = requests.get(url)\n",
        "        soup = BeautifulSoup(response.text)\n",
        "        allItems = soup.find_all(\n",
        "            \"a\", class_=\"focus:outline-none group md:box-border relative\")\n",
        "        \n",
        "        for item in allItems:\n",
        "            link = \"https://www.backmarket.fr\"+item.get('href')\n",
        "\n",
        "            try:\n",
        "                img = \"https://www.backmarket.fr\" + \\\n",
        "                    item.find('img').get('src')\n",
        "            except:\n",
        "                img = None\n",
        "\n",
        "            try:\n",
        "              title = item.find(\"h2\").text.strip()\n",
        "            except:\n",
        "              title = None\n",
        "            \n",
        "            try:\n",
        "              desc = item.find(\n",
        "                'span', class_=\"body-2-light duration-200 line-clamp-1 normal-case overflow-ellipsis overflow-hidden text-black transition-all\").text.strip()\n",
        "            except:\n",
        "              desc = None\n",
        "            \n",
        "            try:\n",
        "              price = item.find(\"div\", attrs={\n",
        "                \"data-qa\": \"prices\"}).text.strip().replace(u'\\xa0', '').split(\",\")[0].strip()\n",
        "            except:\n",
        "              price = None\n",
        "              \n",
        "            datas[(str(uuid.uuid1()))] = {\n",
        "                'id': str(uuid.uuid1()),\n",
        "                'link': link,\n",
        "                'img': img,\n",
        "                'title': title,\n",
        "                'desc': desc,\n",
        "                'price': price\n",
        "            }\n",
        "    with open('AlliPhone.json', 'w') as f:\n",
        "        json.dump(datas, f)\n",
        "\n",
        "    return len(datas)"
      ],
      "metadata": {
        "id": "F-OM5tRS5TEm"
      },
      "execution_count": 29,
      "outputs": []
    },
    {
      "cell_type": "code",
      "source": [
        "get_all_iphone()"
      ],
      "metadata": {
        "id": "qx82lbuLY4Jr",
        "colab": {
          "base_uri": "https://localhost:8080/"
        },
        "outputId": "2de86f2f-b12a-4375-96f2-bb829a42052e"
      },
      "execution_count": 30,
      "outputs": [
        {
          "output_type": "execute_result",
          "data": {
            "text/plain": [
              "238"
            ]
          },
          "metadata": {},
          "execution_count": 30
        }
      ]
    }
  ]
}