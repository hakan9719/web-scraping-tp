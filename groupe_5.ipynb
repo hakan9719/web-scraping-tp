{
  "cells": [
    {
      "cell_type": "code",
      "execution_count": 7,
      "metadata": {
        "id": "cMf56Nok2hL4"
      },
      "outputs": [],
      "source": [
        "import requests\n",
        "from bs4 import BeautifulSoup\n",
        "import json\n",
        "import uuid"
      ]
    },
    {
      "cell_type": "code",
      "execution_count": 8,
      "metadata": {
        "id": "F-OM5tRS5TEm"
      },
      "outputs": [],
      "source": [
        "def get_all_iphone():\n",
        "    datas = {}\n",
        "    list_urls = [\n",
        "        f'https://www.backmarket.fr/fr-fr/l/iphone-reconditionne/aabc736a-cb66-4ac0-a3b7-0f449781ed39?page={n}#serie=iPhone%2013&serie=iPhone%2012&serie=iPhone%2011&sort=prod_index_backbox_price_asc_fr-fr' for n in range(1, 8)]\n",
        "\n",
        "    for url in list_urls:\n",
        "        try:\n",
        "            response = requests.get(url)\n",
        "            soup = BeautifulSoup(response.text)\n",
        "            allItems = soup.find_all(\n",
        "                \"a\", class_=\"focus:outline-none group md:box-border relative\")\n",
        "\n",
        "            for item in allItems:\n",
        "                link = \"https://www.backmarket.fr\"+item.get('href')\n",
        "\n",
        "                try:\n",
        "                    img = \"https://www.backmarket.fr\" + \\\n",
        "                        item.find('img').get('src')\n",
        "                except:\n",
        "                    img = None\n",
        "\n",
        "                try:\n",
        "                    title = item.find(\"h2\").text.strip()\n",
        "                except:\n",
        "                    title = None\n",
        "\n",
        "                try:\n",
        "                    desc = item.find(\n",
        "                        'span', class_=\"body-2-light duration-200 line-clamp-1 normal-case overflow-ellipsis overflow-hidden text-black transition-all\").text.strip()\n",
        "                except:\n",
        "                    desc = None\n",
        "\n",
        "                try:\n",
        "                    price = item.find(\"div\", attrs={\n",
        "                        \"data-qa\": \"prices\"}).text.strip().replace(u'\\xa0', '').split(\",\")[0].strip()\n",
        "                except:\n",
        "                    price = None\n",
        "\n",
        "                datas[(str(uuid.uuid1()))] = {\n",
        "                    'id': str(uuid.uuid1()),\n",
        "                    'link': link,\n",
        "                    'img': img,\n",
        "                    'title': title,\n",
        "                    'desc': desc,\n",
        "                    'price': price\n",
        "                }\n",
        "        except:\n",
        "            datas = None\n",
        "            pass\n",
        "    with open('AlliPhone.json', 'w') as f:\n",
        "        json.dump(datas, f)\n",
        "\n",
        "    return len(datas)\n"
      ]
    },
    {
      "cell_type": "code",
      "execution_count": 9,
      "metadata": {
        "colab": {
          "base_uri": "https://localhost:8080/"
        },
        "id": "qx82lbuLY4Jr",
        "outputId": "2de86f2f-b12a-4375-96f2-bb829a42052e"
      },
      "outputs": [
        {
          "data": {
            "text/plain": [
              "238"
            ]
          },
          "execution_count": 9,
          "metadata": {},
          "output_type": "execute_result"
        }
      ],
      "source": [
        "get_all_iphone()"
      ]
    }
  ],
  "metadata": {
    "colab": {
      "collapsed_sections": [],
      "provenance": []
    },
    "kernelspec": {
      "display_name": "Python 3.10.6 64-bit",
      "language": "python",
      "name": "python3"
    },
    "language_info": {
      "codemirror_mode": {
        "name": "ipython",
        "version": 3
      },
      "file_extension": ".py",
      "mimetype": "text/x-python",
      "name": "python",
      "nbconvert_exporter": "python",
      "pygments_lexer": "ipython3",
      "version": "3.10.6"
    },
    "vscode": {
      "interpreter": {
        "hash": "eda7e54fe21129b67f77862937907ee926f057597a3e2fa1e18ac955e40912b3"
      }
    }
  },
  "nbformat": 4,
  "nbformat_minor": 0
}
